{
 "cells": [
  {
   "cell_type": "code",
   "execution_count": 1,
   "metadata": {},
   "outputs": [],
   "source": [
    "import numpy as np\n",
    "import pandas as pd\n",
    "\n",
    "import hdbscan\n",
    "\n",
    "import seaborn as sns\n",
    "import matplotlib.pyplot as plt\n",
    "from bokeh.plotting import figure, output_file, show, output_notebook\n",
    "import matplotlib as mpl\n",
    "from bokeh.layouts import row,column\n",
    "from bokeh.models import HoverTool\n",
    "from bokeh.models.sources import ColumnDataSource\n",
    "%matplotlib inline"
   ]
  },
  {
   "cell_type": "code",
   "execution_count": 39,
   "metadata": {},
   "outputs": [],
   "source": [
    "peakx_ind = np.load('peakx_ind.npy')  #indexes of l\n",
    "peaky_ind = np.load('peaky_ind.npy')  #indexes of m \n",
    "integration_ind = np.load('timearray_ind.npy')\n",
    "dm_ind = np.load('dmarray_ind.npy')\n",
    "dt_ind = np.load('dtind.npy')\n",
    "snr = np.load('snr.npy')"
   ]
  },
  {
   "cell_type": "code",
   "execution_count": 40,
   "metadata": {},
   "outputs": [],
   "source": [
    "time_ind = np.multiply(integration_ind,np.power(2,dt_ind))"
   ]
  },
  {
   "cell_type": "code",
   "execution_count": 41,
   "metadata": {},
   "outputs": [],
   "source": [
    "d = {'l': peakx_ind, 'm': peaky_ind, 'dm': dm_ind, 'time': time_ind, 'snr': snr}\n",
    "df = pd.DataFrame(data=d)"
   ]
  },
  {
   "cell_type": "code",
   "execution_count": 42,
   "metadata": {},
   "outputs": [
    {
     "data": {
      "text/plain": [
       "22.809436798095703"
      ]
     },
     "execution_count": 42,
     "metadata": {},
     "output_type": "execute_result"
    }
   ],
   "source": [
    "max(df.snr)"
   ]
  },
  {
   "cell_type": "code",
   "execution_count": 43,
   "metadata": {},
   "outputs": [
    {
     "data": {
      "text/plain": [
       "(222, 5)"
      ]
     },
     "execution_count": 43,
     "metadata": {},
     "output_type": "execute_result"
    }
   ],
   "source": [
    "df.shape"
   ]
  },
  {
   "cell_type": "code",
   "execution_count": 44,
   "metadata": {},
   "outputs": [
    {
     "data": {
      "text/plain": [
       "4"
      ]
     },
     "execution_count": 44,
     "metadata": {},
     "output_type": "execute_result"
    }
   ],
   "source": [
    "# Clustering! \n",
    "clusterer = hdbscan.HDBSCAN(min_cluster_size=10, min_samples = 5, cluster_selection_method = 'eom', allow_single_cluster = True).fit(df)\n",
    "np.max(clusterer.labels_+1) #number of clusters"
   ]
  },
  {
   "cell_type": "code",
   "execution_count": 45,
   "metadata": {},
   "outputs": [],
   "source": [
    "color_palette = sns.color_palette('deep', np.max(clusterer.labels_) + 1) #get a color palette with number of colors = number of clusters\n",
    "cluster_colors = [color_palette[x] if x >= 0\n",
    "                  else (0.5, 0.5, 0.5)\n",
    "                  for x in clusterer.labels_]    #assigning each cluster a color, and making a list\n",
    "\n",
    "cluster_member_colors = [sns.desaturate(x, p) for x, p in\n",
    "                         zip(cluster_colors, clusterer.probabilities_)]\n",
    "\n",
    "#plt.scatter(df.x,df.y, s=50, linewidth=0, c=cluster_member_colors, alpha=0.4)\n",
    "#plt.xlim(df.x.min(axis=0),df.x.max(axis=0))\n",
    "#plt.ylim(df.y.min(axis=0), df.y.max(axis=0))"
   ]
  },
  {
   "cell_type": "code",
   "execution_count": 47,
   "metadata": {},
   "outputs": [],
   "source": [
    "cluster_colors = list(map(mpl.colors.rgb2hex, cluster_member_colors)) #converting sns colors to hex for bokeh"
   ]
  },
  {
   "cell_type": "markdown",
   "metadata": {},
   "source": [
    "# Bokeh Plotting"
   ]
  },
  {
   "cell_type": "code",
   "execution_count": 48,
   "metadata": {},
   "outputs": [
    {
     "data": {
      "text/html": [
       "\n",
       "    <div class=\"bk-root\">\n",
       "        <a href=\"https://bokeh.pydata.org\" target=\"_blank\" class=\"bk-logo bk-logo-small bk-logo-notebook\"></a>\n",
       "        <span id=\"82ccec24-eb6b-40a0-962f-45003c70a83f\">Loading BokehJS ...</span>\n",
       "    </div>"
      ]
     },
     "metadata": {},
     "output_type": "display_data"
    },
    {
     "data": {
      "application/javascript": [
       "\n",
       "(function(root) {\n",
       "  function now() {\n",
       "    return new Date();\n",
       "  }\n",
       "\n",
       "  var force = true;\n",
       "\n",
       "  if (typeof (root._bokeh_onload_callbacks) === \"undefined\" || force === true) {\n",
       "    root._bokeh_onload_callbacks = [];\n",
       "    root._bokeh_is_loading = undefined;\n",
       "  }\n",
       "\n",
       "  var JS_MIME_TYPE = 'application/javascript';\n",
       "  var HTML_MIME_TYPE = 'text/html';\n",
       "  var EXEC_MIME_TYPE = 'application/vnd.bokehjs_exec.v0+json';\n",
       "  var CLASS_NAME = 'output_bokeh rendered_html';\n",
       "\n",
       "  /**\n",
       "   * Render data to the DOM node\n",
       "   */\n",
       "  function render(props, node) {\n",
       "    var script = document.createElement(\"script\");\n",
       "    node.appendChild(script);\n",
       "  }\n",
       "\n",
       "  /**\n",
       "   * Handle when an output is cleared or removed\n",
       "   */\n",
       "  function handleClearOutput(event, handle) {\n",
       "    var cell = handle.cell;\n",
       "\n",
       "    var id = cell.output_area._bokeh_element_id;\n",
       "    var server_id = cell.output_area._bokeh_server_id;\n",
       "    // Clean up Bokeh references\n",
       "    if (id !== undefined) {\n",
       "      Bokeh.index[id].model.document.clear();\n",
       "      delete Bokeh.index[id];\n",
       "    }\n",
       "\n",
       "    if (server_id !== undefined) {\n",
       "      // Clean up Bokeh references\n",
       "      var cmd = \"from bokeh.io.state import curstate; print(curstate().uuid_to_server['\" + server_id + \"'].get_sessions()[0].document.roots[0]._id)\";\n",
       "      cell.notebook.kernel.execute(cmd, {\n",
       "        iopub: {\n",
       "          output: function(msg) {\n",
       "            var element_id = msg.content.text.trim();\n",
       "            Bokeh.index[element_id].model.document.clear();\n",
       "            delete Bokeh.index[element_id];\n",
       "          }\n",
       "        }\n",
       "      });\n",
       "      // Destroy server and session\n",
       "      var cmd = \"import bokeh.io.notebook as ion; ion.destroy_server('\" + server_id + \"')\";\n",
       "      cell.notebook.kernel.execute(cmd);\n",
       "    }\n",
       "  }\n",
       "\n",
       "  /**\n",
       "   * Handle when a new output is added\n",
       "   */\n",
       "  function handleAddOutput(event, handle) {\n",
       "    var output_area = handle.output_area;\n",
       "    var output = handle.output;\n",
       "\n",
       "    // limit handleAddOutput to display_data with EXEC_MIME_TYPE content only\n",
       "    if ((output.output_type != \"display_data\") || (!output.data.hasOwnProperty(EXEC_MIME_TYPE))) {\n",
       "      return\n",
       "    }\n",
       "\n",
       "    var toinsert = output_area.element.find(`.${CLASS_NAME.split(' ')[0]}`);\n",
       "\n",
       "    if (output.metadata[EXEC_MIME_TYPE][\"id\"] !== undefined) {\n",
       "      toinsert[0].firstChild.textContent = output.data[JS_MIME_TYPE];\n",
       "      // store reference to embed id on output_area\n",
       "      output_area._bokeh_element_id = output.metadata[EXEC_MIME_TYPE][\"id\"];\n",
       "    }\n",
       "    if (output.metadata[EXEC_MIME_TYPE][\"server_id\"] !== undefined) {\n",
       "      var bk_div = document.createElement(\"div\");\n",
       "      bk_div.innerHTML = output.data[HTML_MIME_TYPE];\n",
       "      var script_attrs = bk_div.children[0].attributes;\n",
       "      for (var i = 0; i < script_attrs.length; i++) {\n",
       "        toinsert[0].firstChild.setAttribute(script_attrs[i].name, script_attrs[i].value);\n",
       "      }\n",
       "      // store reference to server id on output_area\n",
       "      output_area._bokeh_server_id = output.metadata[EXEC_MIME_TYPE][\"server_id\"];\n",
       "    }\n",
       "  }\n",
       "\n",
       "  function register_renderer(events, OutputArea) {\n",
       "\n",
       "    function append_mime(data, metadata, element) {\n",
       "      // create a DOM node to render to\n",
       "      var toinsert = this.create_output_subarea(\n",
       "        metadata,\n",
       "        CLASS_NAME,\n",
       "        EXEC_MIME_TYPE\n",
       "      );\n",
       "      this.keyboard_manager.register_events(toinsert);\n",
       "      // Render to node\n",
       "      var props = {data: data, metadata: metadata[EXEC_MIME_TYPE]};\n",
       "      render(props, toinsert[0]);\n",
       "      element.append(toinsert);\n",
       "      return toinsert\n",
       "    }\n",
       "\n",
       "    /* Handle when an output is cleared or removed */\n",
       "    events.on('clear_output.CodeCell', handleClearOutput);\n",
       "    events.on('delete.Cell', handleClearOutput);\n",
       "\n",
       "    /* Handle when a new output is added */\n",
       "    events.on('output_added.OutputArea', handleAddOutput);\n",
       "\n",
       "    /**\n",
       "     * Register the mime type and append_mime function with output_area\n",
       "     */\n",
       "    OutputArea.prototype.register_mime_type(EXEC_MIME_TYPE, append_mime, {\n",
       "      /* Is output safe? */\n",
       "      safe: true,\n",
       "      /* Index of renderer in `output_area.display_order` */\n",
       "      index: 0\n",
       "    });\n",
       "  }\n",
       "\n",
       "  // register the mime type if in Jupyter Notebook environment and previously unregistered\n",
       "  if (root.Jupyter !== undefined) {\n",
       "    var events = require('base/js/events');\n",
       "    var OutputArea = require('notebook/js/outputarea').OutputArea;\n",
       "\n",
       "    if (OutputArea.prototype.mime_types().indexOf(EXEC_MIME_TYPE) == -1) {\n",
       "      register_renderer(events, OutputArea);\n",
       "    }\n",
       "  }\n",
       "\n",
       "  \n",
       "  if (typeof (root._bokeh_timeout) === \"undefined\" || force === true) {\n",
       "    root._bokeh_timeout = Date.now() + 5000;\n",
       "    root._bokeh_failed_load = false;\n",
       "  }\n",
       "\n",
       "  var NB_LOAD_WARNING = {'data': {'text/html':\n",
       "     \"<div style='background-color: #fdd'>\\n\"+\n",
       "     \"<p>\\n\"+\n",
       "     \"BokehJS does not appear to have successfully loaded. If loading BokehJS from CDN, this \\n\"+\n",
       "     \"may be due to a slow or bad network connection. Possible fixes:\\n\"+\n",
       "     \"</p>\\n\"+\n",
       "     \"<ul>\\n\"+\n",
       "     \"<li>re-rerun `output_notebook()` to attempt to load from CDN again, or</li>\\n\"+\n",
       "     \"<li>use INLINE resources instead, as so:</li>\\n\"+\n",
       "     \"</ul>\\n\"+\n",
       "     \"<code>\\n\"+\n",
       "     \"from bokeh.resources import INLINE\\n\"+\n",
       "     \"output_notebook(resources=INLINE)\\n\"+\n",
       "     \"</code>\\n\"+\n",
       "     \"</div>\"}};\n",
       "\n",
       "  function display_loaded() {\n",
       "    var el = document.getElementById(\"82ccec24-eb6b-40a0-962f-45003c70a83f\");\n",
       "    if (el != null) {\n",
       "      el.textContent = \"BokehJS is loading...\";\n",
       "    }\n",
       "    if (root.Bokeh !== undefined) {\n",
       "      if (el != null) {\n",
       "        el.textContent = \"BokehJS \" + root.Bokeh.version + \" successfully loaded.\";\n",
       "      }\n",
       "    } else if (Date.now() < root._bokeh_timeout) {\n",
       "      setTimeout(display_loaded, 100)\n",
       "    }\n",
       "  }\n",
       "\n",
       "\n",
       "  function run_callbacks() {\n",
       "    try {\n",
       "      root._bokeh_onload_callbacks.forEach(function(callback) { callback() });\n",
       "    }\n",
       "    finally {\n",
       "      delete root._bokeh_onload_callbacks\n",
       "    }\n",
       "    console.info(\"Bokeh: all callbacks have finished\");\n",
       "  }\n",
       "\n",
       "  function load_libs(js_urls, callback) {\n",
       "    root._bokeh_onload_callbacks.push(callback);\n",
       "    if (root._bokeh_is_loading > 0) {\n",
       "      console.log(\"Bokeh: BokehJS is being loaded, scheduling callback at\", now());\n",
       "      return null;\n",
       "    }\n",
       "    if (js_urls == null || js_urls.length === 0) {\n",
       "      run_callbacks();\n",
       "      return null;\n",
       "    }\n",
       "    console.log(\"Bokeh: BokehJS not loaded, scheduling load and callback at\", now());\n",
       "    root._bokeh_is_loading = js_urls.length;\n",
       "    for (var i = 0; i < js_urls.length; i++) {\n",
       "      var url = js_urls[i];\n",
       "      var s = document.createElement('script');\n",
       "      s.src = url;\n",
       "      s.async = false;\n",
       "      s.onreadystatechange = s.onload = function() {\n",
       "        root._bokeh_is_loading--;\n",
       "        if (root._bokeh_is_loading === 0) {\n",
       "          console.log(\"Bokeh: all BokehJS libraries loaded\");\n",
       "          run_callbacks()\n",
       "        }\n",
       "      };\n",
       "      s.onerror = function() {\n",
       "        console.warn(\"failed to load library \" + url);\n",
       "      };\n",
       "      console.log(\"Bokeh: injecting script tag for BokehJS library: \", url);\n",
       "      document.getElementsByTagName(\"head\")[0].appendChild(s);\n",
       "    }\n",
       "  };var element = document.getElementById(\"82ccec24-eb6b-40a0-962f-45003c70a83f\");\n",
       "  if (element == null) {\n",
       "    console.log(\"Bokeh: ERROR: autoload.js configured with elementid '82ccec24-eb6b-40a0-962f-45003c70a83f' but no matching script tag was found. \")\n",
       "    return false;\n",
       "  }\n",
       "\n",
       "  var js_urls = [\"https://cdn.pydata.org/bokeh/release/bokeh-0.12.10.min.js\", \"https://cdn.pydata.org/bokeh/release/bokeh-widgets-0.12.10.min.js\", \"https://cdn.pydata.org/bokeh/release/bokeh-tables-0.12.10.min.js\", \"https://cdn.pydata.org/bokeh/release/bokeh-gl-0.12.10.min.js\"];\n",
       "\n",
       "  var inline_js = [\n",
       "    function(Bokeh) {\n",
       "      Bokeh.set_log_level(\"info\");\n",
       "    },\n",
       "    \n",
       "    function(Bokeh) {\n",
       "      \n",
       "    },\n",
       "    function(Bokeh) {\n",
       "      console.log(\"Bokeh: injecting CSS: https://cdn.pydata.org/bokeh/release/bokeh-0.12.10.min.css\");\n",
       "      Bokeh.embed.inject_css(\"https://cdn.pydata.org/bokeh/release/bokeh-0.12.10.min.css\");\n",
       "      console.log(\"Bokeh: injecting CSS: https://cdn.pydata.org/bokeh/release/bokeh-widgets-0.12.10.min.css\");\n",
       "      Bokeh.embed.inject_css(\"https://cdn.pydata.org/bokeh/release/bokeh-widgets-0.12.10.min.css\");\n",
       "      console.log(\"Bokeh: injecting CSS: https://cdn.pydata.org/bokeh/release/bokeh-tables-0.12.10.min.css\");\n",
       "      Bokeh.embed.inject_css(\"https://cdn.pydata.org/bokeh/release/bokeh-tables-0.12.10.min.css\");\n",
       "    }\n",
       "  ];\n",
       "\n",
       "  function run_inline_js() {\n",
       "    \n",
       "    if ((root.Bokeh !== undefined) || (force === true)) {\n",
       "      for (var i = 0; i < inline_js.length; i++) {\n",
       "        inline_js[i].call(root, root.Bokeh);\n",
       "      }if (force === true) {\n",
       "        display_loaded();\n",
       "      }} else if (Date.now() < root._bokeh_timeout) {\n",
       "      setTimeout(run_inline_js, 100);\n",
       "    } else if (!root._bokeh_failed_load) {\n",
       "      console.log(\"Bokeh: BokehJS failed to load within specified timeout.\");\n",
       "      root._bokeh_failed_load = true;\n",
       "    } else if (force !== true) {\n",
       "      var cell = $(document.getElementById(\"82ccec24-eb6b-40a0-962f-45003c70a83f\")).parents('.cell').data().cell;\n",
       "      cell.output_area.append_execute_result(NB_LOAD_WARNING)\n",
       "    }\n",
       "\n",
       "  }\n",
       "\n",
       "  if (root._bokeh_is_loading === 0) {\n",
       "    console.log(\"Bokeh: BokehJS loaded, going straight to plotting\");\n",
       "    run_inline_js();\n",
       "  } else {\n",
       "    load_libs(js_urls, function() {\n",
       "      console.log(\"Bokeh: BokehJS plotting callback run at\", now());\n",
       "      run_inline_js();\n",
       "    });\n",
       "  }\n",
       "}(window));"
      ],
      "application/vnd.bokehjs_load.v0+json": "\n(function(root) {\n  function now() {\n    return new Date();\n  }\n\n  var force = true;\n\n  if (typeof (root._bokeh_onload_callbacks) === \"undefined\" || force === true) {\n    root._bokeh_onload_callbacks = [];\n    root._bokeh_is_loading = undefined;\n  }\n\n  \n\n  \n  if (typeof (root._bokeh_timeout) === \"undefined\" || force === true) {\n    root._bokeh_timeout = Date.now() + 5000;\n    root._bokeh_failed_load = false;\n  }\n\n  var NB_LOAD_WARNING = {'data': {'text/html':\n     \"<div style='background-color: #fdd'>\\n\"+\n     \"<p>\\n\"+\n     \"BokehJS does not appear to have successfully loaded. If loading BokehJS from CDN, this \\n\"+\n     \"may be due to a slow or bad network connection. Possible fixes:\\n\"+\n     \"</p>\\n\"+\n     \"<ul>\\n\"+\n     \"<li>re-rerun `output_notebook()` to attempt to load from CDN again, or</li>\\n\"+\n     \"<li>use INLINE resources instead, as so:</li>\\n\"+\n     \"</ul>\\n\"+\n     \"<code>\\n\"+\n     \"from bokeh.resources import INLINE\\n\"+\n     \"output_notebook(resources=INLINE)\\n\"+\n     \"</code>\\n\"+\n     \"</div>\"}};\n\n  function display_loaded() {\n    var el = document.getElementById(\"82ccec24-eb6b-40a0-962f-45003c70a83f\");\n    if (el != null) {\n      el.textContent = \"BokehJS is loading...\";\n    }\n    if (root.Bokeh !== undefined) {\n      if (el != null) {\n        el.textContent = \"BokehJS \" + root.Bokeh.version + \" successfully loaded.\";\n      }\n    } else if (Date.now() < root._bokeh_timeout) {\n      setTimeout(display_loaded, 100)\n    }\n  }\n\n\n  function run_callbacks() {\n    try {\n      root._bokeh_onload_callbacks.forEach(function(callback) { callback() });\n    }\n    finally {\n      delete root._bokeh_onload_callbacks\n    }\n    console.info(\"Bokeh: all callbacks have finished\");\n  }\n\n  function load_libs(js_urls, callback) {\n    root._bokeh_onload_callbacks.push(callback);\n    if (root._bokeh_is_loading > 0) {\n      console.log(\"Bokeh: BokehJS is being loaded, scheduling callback at\", now());\n      return null;\n    }\n    if (js_urls == null || js_urls.length === 0) {\n      run_callbacks();\n      return null;\n    }\n    console.log(\"Bokeh: BokehJS not loaded, scheduling load and callback at\", now());\n    root._bokeh_is_loading = js_urls.length;\n    for (var i = 0; i < js_urls.length; i++) {\n      var url = js_urls[i];\n      var s = document.createElement('script');\n      s.src = url;\n      s.async = false;\n      s.onreadystatechange = s.onload = function() {\n        root._bokeh_is_loading--;\n        if (root._bokeh_is_loading === 0) {\n          console.log(\"Bokeh: all BokehJS libraries loaded\");\n          run_callbacks()\n        }\n      };\n      s.onerror = function() {\n        console.warn(\"failed to load library \" + url);\n      };\n      console.log(\"Bokeh: injecting script tag for BokehJS library: \", url);\n      document.getElementsByTagName(\"head\")[0].appendChild(s);\n    }\n  };var element = document.getElementById(\"82ccec24-eb6b-40a0-962f-45003c70a83f\");\n  if (element == null) {\n    console.log(\"Bokeh: ERROR: autoload.js configured with elementid '82ccec24-eb6b-40a0-962f-45003c70a83f' but no matching script tag was found. \")\n    return false;\n  }\n\n  var js_urls = [\"https://cdn.pydata.org/bokeh/release/bokeh-0.12.10.min.js\", \"https://cdn.pydata.org/bokeh/release/bokeh-widgets-0.12.10.min.js\", \"https://cdn.pydata.org/bokeh/release/bokeh-tables-0.12.10.min.js\", \"https://cdn.pydata.org/bokeh/release/bokeh-gl-0.12.10.min.js\"];\n\n  var inline_js = [\n    function(Bokeh) {\n      Bokeh.set_log_level(\"info\");\n    },\n    \n    function(Bokeh) {\n      \n    },\n    function(Bokeh) {\n      console.log(\"Bokeh: injecting CSS: https://cdn.pydata.org/bokeh/release/bokeh-0.12.10.min.css\");\n      Bokeh.embed.inject_css(\"https://cdn.pydata.org/bokeh/release/bokeh-0.12.10.min.css\");\n      console.log(\"Bokeh: injecting CSS: https://cdn.pydata.org/bokeh/release/bokeh-widgets-0.12.10.min.css\");\n      Bokeh.embed.inject_css(\"https://cdn.pydata.org/bokeh/release/bokeh-widgets-0.12.10.min.css\");\n      console.log(\"Bokeh: injecting CSS: https://cdn.pydata.org/bokeh/release/bokeh-tables-0.12.10.min.css\");\n      Bokeh.embed.inject_css(\"https://cdn.pydata.org/bokeh/release/bokeh-tables-0.12.10.min.css\");\n    }\n  ];\n\n  function run_inline_js() {\n    \n    if ((root.Bokeh !== undefined) || (force === true)) {\n      for (var i = 0; i < inline_js.length; i++) {\n        inline_js[i].call(root, root.Bokeh);\n      }if (force === true) {\n        display_loaded();\n      }} else if (Date.now() < root._bokeh_timeout) {\n      setTimeout(run_inline_js, 100);\n    } else if (!root._bokeh_failed_load) {\n      console.log(\"Bokeh: BokehJS failed to load within specified timeout.\");\n      root._bokeh_failed_load = true;\n    } else if (force !== true) {\n      var cell = $(document.getElementById(\"82ccec24-eb6b-40a0-962f-45003c70a83f\")).parents('.cell').data().cell;\n      cell.output_area.append_execute_result(NB_LOAD_WARNING)\n    }\n\n  }\n\n  if (root._bokeh_is_loading === 0) {\n    console.log(\"Bokeh: BokehJS loaded, going straight to plotting\");\n    run_inline_js();\n  } else {\n    load_libs(js_urls, function() {\n      console.log(\"Bokeh: BokehJS plotting callback run at\", now());\n      run_inline_js();\n    });\n  }\n}(window));"
     },
     "metadata": {},
     "output_type": "display_data"
    },
    {
     "data": {
      "text/html": [
       "\n",
       "<div class=\"bk-root\">\n",
       "    <div class=\"bk-plotdiv\" id=\"af2baf0b-7e4e-4ddc-bc25-8891e8f725da\"></div>\n",
       "</div>"
      ]
     },
     "metadata": {},
     "output_type": "display_data"
    },
    {
     "data": {
      "application/javascript": [
       "(function(root) {\n",
       "  function embed_document(root) {\n",
       "    var docs_json = {\"e56228d6-aae1-4bbb-8558-09cc62597942\":{\"roots\":{\"references\":[{\"attributes\":{\"axis_label\":\"time\",\"formatter\":{\"id\":\"5f322daa-f01c-4719-a48b-0f2c1879161e\",\"type\":\"BasicTickFormatter\"},\"plot\":{\"id\":\"22d65981-951a-4b38-bc15-47e342ac1b21\",\"subtype\":\"Figure\",\"type\":\"Plot\"},\"ticker\":{\"id\":\"940fb595-22b3-4e67-8f2a-717fd1c82d22\",\"type\":\"BasicTicker\"}},\"id\":\"9f93e06d-a353-4d87-9454-cb60cbc12564\",\"type\":\"LinearAxis\"},{\"attributes\":{},\"id\":\"f5e36114-4bc5-4456-99c9-2c28d9c8f76f\",\"type\":\"BasicTickFormatter\"},{\"attributes\":{},\"id\":\"ffdcb630-47d8-45a1-90af-e9f847eff33e\",\"type\":\"LinearScale\"},{\"attributes\":{\"callback\":null,\"overlay\":{\"id\":\"e7d3158a-86bd-46cc-8b7f-29a0cb1c5c71\",\"type\":\"BoxAnnotation\"},\"renderers\":[{\"id\":\"36ac5621-9789-4a9c-a016-756bd620243c\",\"type\":\"GlyphRenderer\"}]},\"id\":\"ec186886-8e52-4298-bbd5-df89b36a9682\",\"type\":\"BoxSelectTool\"},{\"attributes\":{},\"id\":\"29b7612d-a2b4-4b8b-b47a-acd7bf10510f\",\"type\":\"LinearScale\"},{\"attributes\":{\"callback\":null,\"overlay\":{\"id\":\"b1748879-248c-42cb-8d7d-87006c938204\",\"type\":\"BoxAnnotation\"},\"renderers\":[{\"id\":\"d7e63697-ea7f-437a-8164-703e5ab2cbe6\",\"type\":\"GlyphRenderer\"}]},\"id\":\"95a83b08-11e5-4719-ac06-0e217779047a\",\"type\":\"BoxSelectTool\"},{\"attributes\":{\"bottom_units\":\"screen\",\"fill_alpha\":{\"value\":0.5},\"fill_color\":{\"value\":\"lightgrey\"},\"left_units\":\"screen\",\"level\":\"overlay\",\"line_alpha\":{\"value\":1.0},\"line_color\":{\"value\":\"black\"},\"line_dash\":[4,4],\"line_width\":{\"value\":2},\"plot\":null,\"render_mode\":\"css\",\"right_units\":\"screen\",\"top_units\":\"screen\"},\"id\":\"d6356066-de28-4ec4-9ba6-9c8a80f38961\",\"type\":\"BoxAnnotation\"},{\"attributes\":{},\"id\":\"1fcf322f-437b-496e-9e7f-0b61e1b06c46\",\"type\":\"WheelZoomTool\"},{\"attributes\":{},\"id\":\"cc23c4db-38ed-453c-9067-ffd8a87a7129\",\"type\":\"LinearScale\"},{\"attributes\":{},\"id\":\"7ca6b473-7895-4be4-9b22-b3abb5ccbd92\",\"type\":\"BasicTickFormatter\"},{\"attributes\":{\"callback\":null,\"tooltips\":[[\"m\",\"@m\"],[\"l\",\"@l\"],[\"time\",\"@time\"],[\"DM\",\"@dm\"],[\"SNR\",\"@snr\"]]},\"id\":\"cc83f530-2c25-4944-b40a-cc34b9989507\",\"type\":\"HoverTool\"},{\"attributes\":{\"axis_label\":\"DM\",\"formatter\":{\"id\":\"eecbac0a-a062-4209-a176-b5fecf01cc9a\",\"type\":\"BasicTickFormatter\"},\"plot\":{\"id\":\"92e39fda-d5da-4254-8170-836d57bfa09f\",\"subtype\":\"Figure\",\"type\":\"Plot\"},\"ticker\":{\"id\":\"c96b0ed4-9eb7-454d-9593-44c905cb6049\",\"type\":\"BasicTicker\"}},\"id\":\"a7d390ea-ae87-4976-8a55-47f5ce5d044c\",\"type\":\"LinearAxis\"},{\"attributes\":{\"source\":{\"id\":\"27163de1-b4fd-42b0-879b-4985184c3ef9\",\"type\":\"ColumnDataSource\"}},\"id\":\"cc4bd36f-3ddb-4cc6-905e-9e7f7a8f20ee\",\"type\":\"CDSView\"},{\"attributes\":{},\"id\":\"f4fd6f0f-ba73-407e-b053-37c716b9ca9a\",\"type\":\"LinearScale\"},{\"attributes\":{\"plot\":null,\"text\":\"m vs l\"},\"id\":\"cd979ab2-0b27-4b88-af1b-14134db0f0ab\",\"type\":\"Title\"},{\"attributes\":{\"plot\":null,\"text\":\"DM vs l\"},\"id\":\"48b72845-d624-443a-911b-a487c6749ccd\",\"type\":\"Title\"},{\"attributes\":{\"data_source\":{\"id\":\"27163de1-b4fd-42b0-879b-4985184c3ef9\",\"type\":\"ColumnDataSource\"},\"glyph\":{\"id\":\"0d9b6222-7773-4e60-befd-ce164c89b6cd\",\"type\":\"Circle\"},\"hover_glyph\":null,\"muted_glyph\":null,\"nonselection_glyph\":{\"id\":\"05753ebc-dd56-41f8-9546-76ccd3da755b\",\"type\":\"Circle\"},\"selection_glyph\":null,\"view\":{\"id\":\"cc4bd36f-3ddb-4cc6-905e-9e7f7a8f20ee\",\"type\":\"CDSView\"}},\"id\":\"0c2af4eb-a618-4cde-a5a9-ce28a07e5763\",\"type\":\"GlyphRenderer\"},{\"attributes\":{},\"id\":\"eecbac0a-a062-4209-a176-b5fecf01cc9a\",\"type\":\"BasicTickFormatter\"},{\"attributes\":{\"fill_alpha\":{\"value\":0.1},\"fill_color\":{\"value\":\"#1f77b4\"},\"line_alpha\":{\"value\":0.1},\"line_color\":{\"value\":\"#1f77b4\"},\"size\":{\"field\":\"snr\",\"units\":\"screen\"},\"x\":{\"field\":\"l\"},\"y\":{\"field\":\"dm\"}},\"id\":\"0e8e5d76-82a4-470d-9727-7e3e3d32a8e6\",\"type\":\"Circle\"},{\"attributes\":{},\"id\":\"9b70201f-5235-4f50-96fc-4b12c5cc6cf5\",\"type\":\"WheelZoomTool\"},{\"attributes\":{\"dimension\":1,\"plot\":{\"id\":\"a53e54bd-6a8e-4aa4-b775-2af57e9a63a9\",\"subtype\":\"Figure\",\"type\":\"Plot\"},\"ticker\":{\"id\":\"fa3c7d49-9409-455c-8542-e87a5359a2c4\",\"type\":\"BasicTicker\"}},\"id\":\"09d85c6f-6a96-42bc-bf78-4738a447c0e8\",\"type\":\"Grid\"},{\"attributes\":{\"below\":[{\"id\":\"3ed218da-b0be-4df5-a73f-05bf8fb8cc7b\",\"type\":\"LinearAxis\"}],\"left\":[{\"id\":\"a7d390ea-ae87-4976-8a55-47f5ce5d044c\",\"type\":\"LinearAxis\"}],\"plot_height\":350,\"plot_width\":450,\"renderers\":[{\"id\":\"3ed218da-b0be-4df5-a73f-05bf8fb8cc7b\",\"type\":\"LinearAxis\"},{\"id\":\"52ed6d80-7205-4cd8-b942-febfc9bc0f03\",\"type\":\"Grid\"},{\"id\":\"a7d390ea-ae87-4976-8a55-47f5ce5d044c\",\"type\":\"LinearAxis\"},{\"id\":\"5c40fb55-4f34-4c64-ad34-3f48d7d269f0\",\"type\":\"Grid\"},{\"id\":\"d6356066-de28-4ec4-9ba6-9c8a80f38961\",\"type\":\"BoxAnnotation\"},{\"id\":\"e7d3158a-86bd-46cc-8b7f-29a0cb1c5c71\",\"type\":\"BoxAnnotation\"},{\"id\":\"36ac5621-9789-4a9c-a016-756bd620243c\",\"type\":\"GlyphRenderer\"}],\"title\":{\"id\":\"48b72845-d624-443a-911b-a487c6749ccd\",\"type\":\"Title\"},\"toolbar\":{\"id\":\"9e55fc9d-1dd8-4eb7-bf76-b9c3526528ec\",\"type\":\"Toolbar\"},\"x_range\":{\"id\":\"a8b33f01-416f-450f-a67d-28e4890b5a3e\",\"type\":\"DataRange1d\"},\"x_scale\":{\"id\":\"0f3350be-ba81-43a0-a7d2-a5869bb4eb61\",\"type\":\"LinearScale\"},\"y_range\":{\"id\":\"391f9695-7db9-4bb6-a2d7-4e4d11a2302f\",\"type\":\"DataRange1d\"},\"y_scale\":{\"id\":\"ffdcb630-47d8-45a1-90af-e9f847eff33e\",\"type\":\"LinearScale\"}},\"id\":\"92e39fda-d5da-4254-8170-836d57bfa09f\",\"subtype\":\"Figure\",\"type\":\"Plot\"},{\"attributes\":{\"plot\":null,\"text\":\"time vs l\"},\"id\":\"7041935f-b033-4770-90ba-465e8ca893f5\",\"type\":\"Title\"},{\"attributes\":{\"below\":[{\"id\":\"0d6af448-a796-41ab-ab1f-7b4871dbbb33\",\"type\":\"LinearAxis\"}],\"left\":[{\"id\":\"f09c5d1c-225e-4650-aa03-9bb6abdaa20e\",\"type\":\"LinearAxis\"}],\"plot_height\":350,\"plot_width\":450,\"renderers\":[{\"id\":\"0d6af448-a796-41ab-ab1f-7b4871dbbb33\",\"type\":\"LinearAxis\"},{\"id\":\"da089e8b-d7eb-4049-ae9c-cbc6fd40b209\",\"type\":\"Grid\"},{\"id\":\"f09c5d1c-225e-4650-aa03-9bb6abdaa20e\",\"type\":\"LinearAxis\"},{\"id\":\"09d85c6f-6a96-42bc-bf78-4738a447c0e8\",\"type\":\"Grid\"},{\"id\":\"39c3ce25-8895-4d32-82e2-0fd25b142605\",\"type\":\"BoxAnnotation\"},{\"id\":\"b1748879-248c-42cb-8d7d-87006c938204\",\"type\":\"BoxAnnotation\"},{\"id\":\"d7e63697-ea7f-437a-8164-703e5ab2cbe6\",\"type\":\"GlyphRenderer\"}],\"title\":{\"id\":\"cd979ab2-0b27-4b88-af1b-14134db0f0ab\",\"type\":\"Title\"},\"toolbar\":{\"id\":\"fd5ba2f6-04b5-43c2-acd1-53050593887a\",\"type\":\"Toolbar\"},\"x_range\":{\"id\":\"3b610359-e027-4082-9aec-0efa8fda1377\",\"type\":\"DataRange1d\"},\"x_scale\":{\"id\":\"cc23c4db-38ed-453c-9067-ffd8a87a7129\",\"type\":\"LinearScale\"},\"y_range\":{\"id\":\"9c1892e0-202d-4562-99d1-641c0ff56dd4\",\"type\":\"DataRange1d\"},\"y_scale\":{\"id\":\"c7b8a900-fddf-4ebd-8407-20a65c72cbda\",\"type\":\"LinearScale\"}},\"id\":\"a53e54bd-6a8e-4aa4-b775-2af57e9a63a9\",\"subtype\":\"Figure\",\"type\":\"Plot\"},{\"attributes\":{\"callback\":null},\"id\":\"c5de8f9f-e951-46c7-95c8-1ec1d535eca0\",\"type\":\"DataRange1d\"},{\"attributes\":{},\"id\":\"ce8c5051-0816-4ae6-b5f6-68c77e05ebbe\",\"type\":\"CrosshairTool\"},{\"attributes\":{},\"id\":\"10dfd5d1-f385-4bc8-8592-faf0916c3919\",\"type\":\"BasicTicker\"},{\"attributes\":{\"plot\":{\"id\":\"a53e54bd-6a8e-4aa4-b775-2af57e9a63a9\",\"subtype\":\"Figure\",\"type\":\"Plot\"},\"ticker\":{\"id\":\"d82e39d2-b25b-4d95-b1a9-d2b7a8016645\",\"type\":\"BasicTicker\"}},\"id\":\"da089e8b-d7eb-4049-ae9c-cbc6fd40b209\",\"type\":\"Grid\"},{\"attributes\":{\"callback\":null},\"id\":\"f9c34df0-ce77-46ed-963d-7f4b3df3714a\",\"type\":\"DataRange1d\"},{\"attributes\":{},\"id\":\"053e4be2-36de-4436-a00b-d2934d4144d2\",\"type\":\"LinearScale\"},{\"attributes\":{\"plot\":{\"id\":\"22d65981-951a-4b38-bc15-47e342ac1b21\",\"subtype\":\"Figure\",\"type\":\"Plot\"},\"ticker\":{\"id\":\"10dfd5d1-f385-4bc8-8592-faf0916c3919\",\"type\":\"BasicTicker\"}},\"id\":\"2ddeb4ef-5b4b-425c-b91d-0ca4e51d998e\",\"type\":\"Grid\"},{\"attributes\":{},\"id\":\"d39a0c29-0469-4cc8-b418-5c07d9541f3d\",\"type\":\"ResetTool\"},{\"attributes\":{\"overlay\":{\"id\":\"eb3f7e06-7c44-4ce9-98bd-20c189d42ae4\",\"type\":\"BoxAnnotation\"}},\"id\":\"2e99bd97-3b1b-4ce6-9181-0ec41ada7ddf\",\"type\":\"BoxZoomTool\"},{\"attributes\":{\"callback\":null},\"id\":\"391f9695-7db9-4bb6-a2d7-4e4d11a2302f\",\"type\":\"DataRange1d\"},{\"attributes\":{\"active_drag\":\"auto\",\"active_inspect\":\"auto\",\"active_scroll\":\"auto\",\"active_tap\":\"auto\",\"tools\":[{\"id\":\"cd9bc2ae-9cbc-4600-bedc-cd966a33339c\",\"type\":\"CrosshairTool\"},{\"id\":\"c06509d3-ccfd-4337-acf0-976fe5351243\",\"type\":\"BoxZoomTool\"},{\"id\":\"8aaf0d10-4398-470d-94be-7fa83aa4a256\",\"type\":\"ResetTool\"},{\"id\":\"ec186886-8e52-4298-bbd5-df89b36a9682\",\"type\":\"BoxSelectTool\"},{\"id\":\"654ce965-fecf-4ad9-96d8-3411ddfd9dc0\",\"type\":\"TapTool\"},{\"id\":\"d1894e60-038e-4963-876c-4861d44dbbbf\",\"type\":\"HoverTool\"},{\"id\":\"2fde0f7a-425f-430e-8060-ebc0df207010\",\"type\":\"WheelZoomTool\"}]},\"id\":\"9e55fc9d-1dd8-4eb7-bf76-b9c3526528ec\",\"type\":\"Toolbar\"},{\"attributes\":{\"plot\":{\"id\":\"92e39fda-d5da-4254-8170-836d57bfa09f\",\"subtype\":\"Figure\",\"type\":\"Plot\"},\"ticker\":{\"id\":\"a1f8c9f1-7e14-44a2-ac04-9529fb425138\",\"type\":\"BasicTicker\"}},\"id\":\"52ed6d80-7205-4cd8-b942-febfc9bc0f03\",\"type\":\"Grid\"},{\"attributes\":{\"data_source\":{\"id\":\"27163de1-b4fd-42b0-879b-4985184c3ef9\",\"type\":\"ColumnDataSource\"},\"glyph\":{\"id\":\"95151e59-a6b8-47c7-ae2b-c2190de8d857\",\"type\":\"Circle\"},\"hover_glyph\":null,\"muted_glyph\":null,\"nonselection_glyph\":{\"id\":\"5cd9b5a6-1830-4fdc-a9e1-9f05c60d468e\",\"type\":\"Circle\"},\"selection_glyph\":null,\"view\":{\"id\":\"31da4982-1144-41cb-b266-f860d01e013e\",\"type\":\"CDSView\"}},\"id\":\"a6a45d1f-7aca-4078-b182-c578f69aa8c0\",\"type\":\"GlyphRenderer\"},{\"attributes\":{\"bottom_units\":\"screen\",\"fill_alpha\":{\"value\":0.5},\"fill_color\":{\"value\":\"lightgrey\"},\"left_units\":\"screen\",\"level\":\"overlay\",\"line_alpha\":{\"value\":1.0},\"line_color\":{\"value\":\"black\"},\"line_dash\":[4,4],\"line_width\":{\"value\":2},\"plot\":null,\"render_mode\":\"css\",\"right_units\":\"screen\",\"top_units\":\"screen\"},\"id\":\"52923cf9-6379-42cb-b69a-f652e5e34877\",\"type\":\"BoxAnnotation\"},{\"attributes\":{\"axis_label\":\"l\",\"formatter\":{\"id\":\"cc031d54-f56a-4e15-9809-000f077dd603\",\"type\":\"BasicTickFormatter\"},\"plot\":{\"id\":\"92e39fda-d5da-4254-8170-836d57bfa09f\",\"subtype\":\"Figure\",\"type\":\"Plot\"},\"ticker\":{\"id\":\"a1f8c9f1-7e14-44a2-ac04-9529fb425138\",\"type\":\"BasicTicker\"}},\"id\":\"3ed218da-b0be-4df5-a73f-05bf8fb8cc7b\",\"type\":\"LinearAxis\"},{\"attributes\":{},\"id\":\"c96b0ed4-9eb7-454d-9593-44c905cb6049\",\"type\":\"BasicTicker\"},{\"attributes\":{\"fill_alpha\":{\"value\":0.3},\"fill_color\":{\"field\":\"colors\"},\"line_color\":{\"field\":\"colors\"},\"size\":{\"field\":\"snr\",\"units\":\"screen\"},\"x\":{\"field\":\"l\"},\"y\":{\"field\":\"m\"}},\"id\":\"10f0f32e-828f-41bb-ab15-cbb11fcf5114\",\"type\":\"Circle\"},{\"attributes\":{\"axis_label\":\"m\",\"formatter\":{\"id\":\"ced59607-3163-4aaf-a44d-75d30dfc02b7\",\"type\":\"BasicTickFormatter\"},\"plot\":{\"id\":\"a53e54bd-6a8e-4aa4-b775-2af57e9a63a9\",\"subtype\":\"Figure\",\"type\":\"Plot\"},\"ticker\":{\"id\":\"fa3c7d49-9409-455c-8542-e87a5359a2c4\",\"type\":\"BasicTicker\"}},\"id\":\"f09c5d1c-225e-4650-aa03-9bb6abdaa20e\",\"type\":\"LinearAxis\"},{\"attributes\":{\"axis_label\":\"l\",\"formatter\":{\"id\":\"07bc95b9-3f23-4524-9f87-46a7e023362b\",\"type\":\"BasicTickFormatter\"},\"plot\":{\"id\":\"22d65981-951a-4b38-bc15-47e342ac1b21\",\"subtype\":\"Figure\",\"type\":\"Plot\"},\"ticker\":{\"id\":\"10dfd5d1-f385-4bc8-8592-faf0916c3919\",\"type\":\"BasicTicker\"}},\"id\":\"a5e8ca19-cc6d-4126-8e91-c17da89f8fc5\",\"type\":\"LinearAxis\"},{\"attributes\":{\"active_drag\":\"auto\",\"active_inspect\":\"auto\",\"active_scroll\":\"auto\",\"active_tap\":\"auto\",\"tools\":[{\"id\":\"f0ec83a5-ad07-4d31-ac67-1b38e79312ad\",\"type\":\"CrosshairTool\"},{\"id\":\"2e99bd97-3b1b-4ce6-9181-0ec41ada7ddf\",\"type\":\"BoxZoomTool\"},{\"id\":\"d39a0c29-0469-4cc8-b418-5c07d9541f3d\",\"type\":\"ResetTool\"},{\"id\":\"15f560c0-f1a8-4a3d-866c-4f2e1ccda7dd\",\"type\":\"BoxSelectTool\"},{\"id\":\"a6dae15b-ef46-493b-a0f6-4cde85d5d7ff\",\"type\":\"TapTool\"},{\"id\":\"9a605c25-7567-47d8-9375-d3d96ebb2ca8\",\"type\":\"HoverTool\"},{\"id\":\"14f98b23-8bb4-4fa7-bede-2f956879f04c\",\"type\":\"WheelZoomTool\"}]},\"id\":\"00290a27-83ab-4822-b82d-47da803293b0\",\"type\":\"Toolbar\"},{\"attributes\":{\"fill_alpha\":{\"value\":0.3},\"fill_color\":{\"field\":\"colors\"},\"line_color\":{\"field\":\"colors\"},\"size\":{\"field\":\"snr\",\"units\":\"screen\"},\"x\":{\"field\":\"l\"},\"y\":{\"field\":\"time\"}},\"id\":\"0d9b6222-7773-4e60-befd-ce164c89b6cd\",\"type\":\"Circle\"},{\"attributes\":{\"plot\":{\"id\":\"18bd8405-b478-4e38-8d36-d0e5242bcb4d\",\"subtype\":\"Figure\",\"type\":\"Plot\"},\"ticker\":{\"id\":\"b696ffbe-65bb-479e-97c8-8469aa4c16bf\",\"type\":\"BasicTicker\"}},\"id\":\"ac716a92-8e37-4e47-9cd3-02e920d141c9\",\"type\":\"Grid\"},{\"attributes\":{},\"id\":\"cc031d54-f56a-4e15-9809-000f077dd603\",\"type\":\"BasicTickFormatter\"},{\"attributes\":{\"fill_alpha\":{\"value\":0.1},\"fill_color\":{\"value\":\"#1f77b4\"},\"line_alpha\":{\"value\":0.1},\"line_color\":{\"value\":\"#1f77b4\"},\"size\":{\"field\":\"snr\",\"units\":\"screen\"},\"x\":{\"field\":\"time\"},\"y\":{\"field\":\"dm\"}},\"id\":\"5cd9b5a6-1830-4fdc-a9e1-9f05c60d468e\",\"type\":\"Circle\"},{\"attributes\":{\"callback\":null,\"tooltips\":[[\"m\",\"@m\"],[\"l\",\"@l\"],[\"time\",\"@time\"],[\"DM\",\"@dm\"],[\"SNR\",\"@snr\"]]},\"id\":\"d1894e60-038e-4963-876c-4861d44dbbbf\",\"type\":\"HoverTool\"},{\"attributes\":{\"plot\":null,\"text\":\"DM vs time\"},\"id\":\"ed83bad2-5aac-4731-a8e3-bc6cec5deaa2\",\"type\":\"Title\"},{\"attributes\":{},\"id\":\"c7b8a900-fddf-4ebd-8407-20a65c72cbda\",\"type\":\"LinearScale\"},{\"attributes\":{\"callback\":null},\"id\":\"3b610359-e027-4082-9aec-0efa8fda1377\",\"type\":\"DataRange1d\"},{\"attributes\":{\"children\":[{\"id\":\"944f683d-1c01-42d0-90d3-ca3dfd2f63ad\",\"type\":\"Row\"},{\"id\":\"85d35a10-97f5-4b5f-8c1d-793c91f84943\",\"type\":\"Row\"}]},\"id\":\"055a124d-08a3-4061-b9db-9bc4d5524299\",\"type\":\"Column\"},{\"attributes\":{\"active_drag\":\"auto\",\"active_inspect\":\"auto\",\"active_scroll\":\"auto\",\"active_tap\":\"auto\",\"tools\":[{\"id\":\"044d6d60-76d9-4606-98ee-d9ada021a3a3\",\"type\":\"CrosshairTool\"},{\"id\":\"f65031cf-0587-4a83-bace-93579fff01d6\",\"type\":\"BoxZoomTool\"},{\"id\":\"5f66f99b-8623-4a86-8840-a898c27e7d36\",\"type\":\"ResetTool\"},{\"id\":\"38f22d99-88fe-49df-a1af-5a135cd70997\",\"type\":\"BoxSelectTool\"},{\"id\":\"cd41674c-e063-4067-8bfe-0cb8a516181f\",\"type\":\"TapTool\"},{\"id\":\"e362cc02-4e8d-41ee-b419-f1cdaaacbf68\",\"type\":\"HoverTool\"},{\"id\":\"1fcf322f-437b-496e-9e7f-0b61e1b06c46\",\"type\":\"WheelZoomTool\"}]},\"id\":\"7e459514-1c45-420f-a941-82d45ed9a7fa\",\"type\":\"Toolbar\"},{\"attributes\":{},\"id\":\"07bc95b9-3f23-4524-9f87-46a7e023362b\",\"type\":\"BasicTickFormatter\"},{\"attributes\":{\"children\":[{\"id\":\"92e39fda-d5da-4254-8170-836d57bfa09f\",\"subtype\":\"Figure\",\"type\":\"Plot\"},{\"id\":\"22d65981-951a-4b38-bc15-47e342ac1b21\",\"subtype\":\"Figure\",\"type\":\"Plot\"}]},\"id\":\"85d35a10-97f5-4b5f-8c1d-793c91f84943\",\"type\":\"Row\"},{\"attributes\":{\"dimension\":1,\"plot\":{\"id\":\"22d65981-951a-4b38-bc15-47e342ac1b21\",\"subtype\":\"Figure\",\"type\":\"Plot\"},\"ticker\":{\"id\":\"940fb595-22b3-4e67-8f2a-717fd1c82d22\",\"type\":\"BasicTicker\"}},\"id\":\"bf4835ec-9fb5-4b68-897b-03c9314008e2\",\"type\":\"Grid\"},{\"attributes\":{\"bottom_units\":\"screen\",\"fill_alpha\":{\"value\":0.5},\"fill_color\":{\"value\":\"lightgrey\"},\"left_units\":\"screen\",\"level\":\"overlay\",\"line_alpha\":{\"value\":1.0},\"line_color\":{\"value\":\"black\"},\"line_dash\":[4,4],\"line_width\":{\"value\":2},\"plot\":null,\"render_mode\":\"css\",\"right_units\":\"screen\",\"top_units\":\"screen\"},\"id\":\"9647dbf6-cd70-4b57-ac68-cb8853674c23\",\"type\":\"BoxAnnotation\"},{\"attributes\":{},\"id\":\"8aaf0d10-4398-470d-94be-7fa83aa4a256\",\"type\":\"ResetTool\"},{\"attributes\":{},\"id\":\"f0ec83a5-ad07-4d31-ac67-1b38e79312ad\",\"type\":\"CrosshairTool\"},{\"attributes\":{\"below\":[{\"id\":\"d8ea2e85-af9b-4c7d-902c-f237a75188a3\",\"type\":\"LinearAxis\"}],\"left\":[{\"id\":\"e8148124-8b78-44b5-973c-23bf7cf3e527\",\"type\":\"LinearAxis\"}],\"plot_height\":350,\"plot_width\":450,\"renderers\":[{\"id\":\"d8ea2e85-af9b-4c7d-902c-f237a75188a3\",\"type\":\"LinearAxis\"},{\"id\":\"ac716a92-8e37-4e47-9cd3-02e920d141c9\",\"type\":\"Grid\"},{\"id\":\"e8148124-8b78-44b5-973c-23bf7cf3e527\",\"type\":\"LinearAxis\"},{\"id\":\"4793a411-360c-4281-89ad-b7a4556d7c43\",\"type\":\"Grid\"},{\"id\":\"eb3f7e06-7c44-4ce9-98bd-20c189d42ae4\",\"type\":\"BoxAnnotation\"},{\"id\":\"9647dbf6-cd70-4b57-ac68-cb8853674c23\",\"type\":\"BoxAnnotation\"},{\"id\":\"a6a45d1f-7aca-4078-b182-c578f69aa8c0\",\"type\":\"GlyphRenderer\"}],\"title\":{\"id\":\"ed83bad2-5aac-4731-a8e3-bc6cec5deaa2\",\"type\":\"Title\"},\"toolbar\":{\"id\":\"00290a27-83ab-4822-b82d-47da803293b0\",\"type\":\"Toolbar\"},\"x_range\":{\"id\":\"bdb2b97a-5d09-4213-be20-2c7f2728221d\",\"type\":\"DataRange1d\"},\"x_scale\":{\"id\":\"29b7612d-a2b4-4b8b-b47a-acd7bf10510f\",\"type\":\"LinearScale\"},\"y_range\":{\"id\":\"f9c34df0-ce77-46ed-963d-7f4b3df3714a\",\"type\":\"DataRange1d\"},\"y_scale\":{\"id\":\"053e4be2-36de-4436-a00b-d2934d4144d2\",\"type\":\"LinearScale\"}},\"id\":\"18bd8405-b478-4e38-8d36-d0e5242bcb4d\",\"subtype\":\"Figure\",\"type\":\"Plot\"},{\"attributes\":{},\"id\":\"fa3c7d49-9409-455c-8542-e87a5359a2c4\",\"type\":\"BasicTicker\"},{\"attributes\":{\"fill_alpha\":{\"value\":0.3},\"fill_color\":{\"field\":\"colors\"},\"line_color\":{\"field\":\"colors\"},\"size\":{\"field\":\"snr\",\"units\":\"screen\"},\"x\":{\"field\":\"l\"},\"y\":{\"field\":\"dm\"}},\"id\":\"17f95db9-e0f2-41f5-92db-2316e3c299e0\",\"type\":\"Circle\"},{\"attributes\":{},\"id\":\"940fb595-22b3-4e67-8f2a-717fd1c82d22\",\"type\":\"BasicTicker\"},{\"attributes\":{\"bottom_units\":\"screen\",\"fill_alpha\":{\"value\":0.5},\"fill_color\":{\"value\":\"lightgrey\"},\"left_units\":\"screen\",\"level\":\"overlay\",\"line_alpha\":{\"value\":1.0},\"line_color\":{\"value\":\"black\"},\"line_dash\":[4,4],\"line_width\":{\"value\":2},\"plot\":null,\"render_mode\":\"css\",\"right_units\":\"screen\",\"top_units\":\"screen\"},\"id\":\"39c3ce25-8895-4d32-82e2-0fd25b142605\",\"type\":\"BoxAnnotation\"},{\"attributes\":{\"callback\":null,\"overlay\":{\"id\":\"9647dbf6-cd70-4b57-ac68-cb8853674c23\",\"type\":\"BoxAnnotation\"},\"renderers\":[{\"id\":\"a6a45d1f-7aca-4078-b182-c578f69aa8c0\",\"type\":\"GlyphRenderer\"}]},\"id\":\"15f560c0-f1a8-4a3d-866c-4f2e1ccda7dd\",\"type\":\"BoxSelectTool\"},{\"attributes\":{},\"id\":\"a33f24e4-0afb-47d2-959a-405fec8ee2fc\",\"type\":\"BasicTickFormatter\"},{\"attributes\":{\"callback\":null,\"tooltips\":[[\"m\",\"@m\"],[\"l\",\"@l\"],[\"time\",\"@time\"],[\"DM\",\"@dm\"],[\"SNR\",\"@snr\"]]},\"id\":\"9a605c25-7567-47d8-9375-d3d96ebb2ca8\",\"type\":\"HoverTool\"},{\"attributes\":{\"callback\":null},\"id\":\"654ce965-fecf-4ad9-96d8-3411ddfd9dc0\",\"type\":\"TapTool\"},{\"attributes\":{},\"id\":\"5f66f99b-8623-4a86-8840-a898c27e7d36\",\"type\":\"ResetTool\"},{\"attributes\":{\"callback\":null},\"id\":\"9c1892e0-202d-4562-99d1-641c0ff56dd4\",\"type\":\"DataRange1d\"},{\"attributes\":{},\"id\":\"4a9ac381-4505-406a-9791-a80aede6ff0e\",\"type\":\"ResetTool\"},{\"attributes\":{\"bottom_units\":\"screen\",\"fill_alpha\":{\"value\":0.5},\"fill_color\":{\"value\":\"lightgrey\"},\"left_units\":\"screen\",\"level\":\"overlay\",\"line_alpha\":{\"value\":1.0},\"line_color\":{\"value\":\"black\"},\"line_dash\":[4,4],\"line_width\":{\"value\":2},\"plot\":null,\"render_mode\":\"css\",\"right_units\":\"screen\",\"top_units\":\"screen\"},\"id\":\"a3395f52-3989-4743-9c36-ac9d02893bb1\",\"type\":\"BoxAnnotation\"},{\"attributes\":{\"overlay\":{\"id\":\"a3395f52-3989-4743-9c36-ac9d02893bb1\",\"type\":\"BoxAnnotation\"}},\"id\":\"f65031cf-0587-4a83-bace-93579fff01d6\",\"type\":\"BoxZoomTool\"},{\"attributes\":{\"bottom_units\":\"screen\",\"fill_alpha\":{\"value\":0.5},\"fill_color\":{\"value\":\"lightgrey\"},\"left_units\":\"screen\",\"level\":\"overlay\",\"line_alpha\":{\"value\":1.0},\"line_color\":{\"value\":\"black\"},\"line_dash\":[4,4],\"line_width\":{\"value\":2},\"plot\":null,\"render_mode\":\"css\",\"right_units\":\"screen\",\"top_units\":\"screen\"},\"id\":\"e7d3158a-86bd-46cc-8b7f-29a0cb1c5c71\",\"type\":\"BoxAnnotation\"},{\"attributes\":{\"overlay\":{\"id\":\"39c3ce25-8895-4d32-82e2-0fd25b142605\",\"type\":\"BoxAnnotation\"}},\"id\":\"7f518e8d-f9ce-49b9-92e9-2f674664f17f\",\"type\":\"BoxZoomTool\"},{\"attributes\":{\"children\":[{\"id\":\"a53e54bd-6a8e-4aa4-b775-2af57e9a63a9\",\"subtype\":\"Figure\",\"type\":\"Plot\"},{\"id\":\"18bd8405-b478-4e38-8d36-d0e5242bcb4d\",\"subtype\":\"Figure\",\"type\":\"Plot\"}]},\"id\":\"944f683d-1c01-42d0-90d3-ca3dfd2f63ad\",\"type\":\"Row\"},{\"attributes\":{\"dimension\":1,\"plot\":{\"id\":\"18bd8405-b478-4e38-8d36-d0e5242bcb4d\",\"subtype\":\"Figure\",\"type\":\"Plot\"},\"ticker\":{\"id\":\"381dca4f-31ec-441d-9e93-41298e0b6c09\",\"type\":\"BasicTicker\"}},\"id\":\"4793a411-360c-4281-89ad-b7a4556d7c43\",\"type\":\"Grid\"},{\"attributes\":{},\"id\":\"381dca4f-31ec-441d-9e93-41298e0b6c09\",\"type\":\"BasicTicker\"},{\"attributes\":{\"data_source\":{\"id\":\"27163de1-b4fd-42b0-879b-4985184c3ef9\",\"type\":\"ColumnDataSource\"},\"glyph\":{\"id\":\"10f0f32e-828f-41bb-ab15-cbb11fcf5114\",\"type\":\"Circle\"},\"hover_glyph\":null,\"muted_glyph\":null,\"nonselection_glyph\":{\"id\":\"28841af3-0683-4639-841c-34d800d813e0\",\"type\":\"Circle\"},\"selection_glyph\":null,\"view\":{\"id\":\"4452024a-e158-4d25-9a4b-52a777308624\",\"type\":\"CDSView\"}},\"id\":\"d7e63697-ea7f-437a-8164-703e5ab2cbe6\",\"type\":\"GlyphRenderer\"},{\"attributes\":{\"overlay\":{\"id\":\"d6356066-de28-4ec4-9ba6-9c8a80f38961\",\"type\":\"BoxAnnotation\"}},\"id\":\"c06509d3-ccfd-4337-acf0-976fe5351243\",\"type\":\"BoxZoomTool\"},{\"attributes\":{\"below\":[{\"id\":\"a5e8ca19-cc6d-4126-8e91-c17da89f8fc5\",\"type\":\"LinearAxis\"}],\"left\":[{\"id\":\"9f93e06d-a353-4d87-9454-cb60cbc12564\",\"type\":\"LinearAxis\"}],\"plot_height\":350,\"plot_width\":450,\"renderers\":[{\"id\":\"a5e8ca19-cc6d-4126-8e91-c17da89f8fc5\",\"type\":\"LinearAxis\"},{\"id\":\"2ddeb4ef-5b4b-425c-b91d-0ca4e51d998e\",\"type\":\"Grid\"},{\"id\":\"9f93e06d-a353-4d87-9454-cb60cbc12564\",\"type\":\"LinearAxis\"},{\"id\":\"bf4835ec-9fb5-4b68-897b-03c9314008e2\",\"type\":\"Grid\"},{\"id\":\"a3395f52-3989-4743-9c36-ac9d02893bb1\",\"type\":\"BoxAnnotation\"},{\"id\":\"52923cf9-6379-42cb-b69a-f652e5e34877\",\"type\":\"BoxAnnotation\"},{\"id\":\"0c2af4eb-a618-4cde-a5a9-ce28a07e5763\",\"type\":\"GlyphRenderer\"}],\"title\":{\"id\":\"7041935f-b033-4770-90ba-465e8ca893f5\",\"type\":\"Title\"},\"toolbar\":{\"id\":\"7e459514-1c45-420f-a941-82d45ed9a7fa\",\"type\":\"Toolbar\"},\"x_range\":{\"id\":\"6f93dce1-79d3-44d5-9541-e7b9136cd0a9\",\"type\":\"DataRange1d\"},\"x_scale\":{\"id\":\"f4fd6f0f-ba73-407e-b053-37c716b9ca9a\",\"type\":\"LinearScale\"},\"y_range\":{\"id\":\"c5de8f9f-e951-46c7-95c8-1ec1d535eca0\",\"type\":\"DataRange1d\"},\"y_scale\":{\"id\":\"b7b2d930-502d-4512-a094-d0cb8e978512\",\"type\":\"LinearScale\"}},\"id\":\"22d65981-951a-4b38-bc15-47e342ac1b21\",\"subtype\":\"Figure\",\"type\":\"Plot\"},{\"attributes\":{\"data_source\":{\"id\":\"27163de1-b4fd-42b0-879b-4985184c3ef9\",\"type\":\"ColumnDataSource\"},\"glyph\":{\"id\":\"17f95db9-e0f2-41f5-92db-2316e3c299e0\",\"type\":\"Circle\"},\"hover_glyph\":null,\"muted_glyph\":null,\"nonselection_glyph\":{\"id\":\"0e8e5d76-82a4-470d-9727-7e3e3d32a8e6\",\"type\":\"Circle\"},\"selection_glyph\":null,\"view\":{\"id\":\"bcf26b05-36d5-473b-9ea6-b553abe73dd9\",\"type\":\"CDSView\"}},\"id\":\"36ac5621-9789-4a9c-a016-756bd620243c\",\"type\":\"GlyphRenderer\"},{\"attributes\":{},\"id\":\"2fde0f7a-425f-430e-8060-ebc0df207010\",\"type\":\"WheelZoomTool\"},{\"attributes\":{\"callback\":null,\"overlay\":{\"id\":\"52923cf9-6379-42cb-b69a-f652e5e34877\",\"type\":\"BoxAnnotation\"},\"renderers\":[{\"id\":\"0c2af4eb-a618-4cde-a5a9-ce28a07e5763\",\"type\":\"GlyphRenderer\"}]},\"id\":\"38f22d99-88fe-49df-a1af-5a135cd70997\",\"type\":\"BoxSelectTool\"},{\"attributes\":{\"bottom_units\":\"screen\",\"fill_alpha\":{\"value\":0.5},\"fill_color\":{\"value\":\"lightgrey\"},\"left_units\":\"screen\",\"level\":\"overlay\",\"line_alpha\":{\"value\":1.0},\"line_color\":{\"value\":\"black\"},\"line_dash\":[4,4],\"line_width\":{\"value\":2},\"plot\":null,\"render_mode\":\"css\",\"right_units\":\"screen\",\"top_units\":\"screen\"},\"id\":\"b1748879-248c-42cb-8d7d-87006c938204\",\"type\":\"BoxAnnotation\"},{\"attributes\":{},\"id\":\"0f3350be-ba81-43a0-a7d2-a5869bb4eb61\",\"type\":\"LinearScale\"},{\"attributes\":{},\"id\":\"cd9bc2ae-9cbc-4600-bedc-cd966a33339c\",\"type\":\"CrosshairTool\"},{\"attributes\":{\"callback\":null},\"id\":\"a8b33f01-416f-450f-a67d-28e4890b5a3e\",\"type\":\"DataRange1d\"},{\"attributes\":{\"fill_alpha\":{\"value\":0.3},\"fill_color\":{\"field\":\"colors\"},\"line_color\":{\"field\":\"colors\"},\"size\":{\"field\":\"snr\",\"units\":\"screen\"},\"x\":{\"field\":\"time\"},\"y\":{\"field\":\"dm\"}},\"id\":\"95151e59-a6b8-47c7-ae2b-c2190de8d857\",\"type\":\"Circle\"},{\"attributes\":{},\"id\":\"a1f8c9f1-7e14-44a2-ac04-9529fb425138\",\"type\":\"BasicTicker\"},{\"attributes\":{\"callback\":null,\"tooltips\":[[\"m\",\"@m\"],[\"l\",\"@l\"],[\"time\",\"@time\"],[\"DM\",\"@dm\"],[\"SNR\",\"@snr\"]]},\"id\":\"e362cc02-4e8d-41ee-b419-f1cdaaacbf68\",\"type\":\"HoverTool\"},{\"attributes\":{},\"id\":\"14f98b23-8bb4-4fa7-bede-2f956879f04c\",\"type\":\"WheelZoomTool\"},{\"attributes\":{},\"id\":\"d82e39d2-b25b-4d95-b1a9-d2b7a8016645\",\"type\":\"BasicTicker\"},{\"attributes\":{\"active_drag\":\"auto\",\"active_inspect\":\"auto\",\"active_scroll\":\"auto\",\"active_tap\":\"auto\",\"tools\":[{\"id\":\"ce8c5051-0816-4ae6-b5f6-68c77e05ebbe\",\"type\":\"CrosshairTool\"},{\"id\":\"7f518e8d-f9ce-49b9-92e9-2f674664f17f\",\"type\":\"BoxZoomTool\"},{\"id\":\"4a9ac381-4505-406a-9791-a80aede6ff0e\",\"type\":\"ResetTool\"},{\"id\":\"95a83b08-11e5-4719-ac06-0e217779047a\",\"type\":\"BoxSelectTool\"},{\"id\":\"80b1eb79-1470-4b79-914b-369cb83e368c\",\"type\":\"TapTool\"},{\"id\":\"cc83f530-2c25-4944-b40a-cc34b9989507\",\"type\":\"HoverTool\"},{\"id\":\"9b70201f-5235-4f50-96fc-4b12c5cc6cf5\",\"type\":\"WheelZoomTool\"}]},\"id\":\"fd5ba2f6-04b5-43c2-acd1-53050593887a\",\"type\":\"Toolbar\"},{\"attributes\":{\"source\":{\"id\":\"27163de1-b4fd-42b0-879b-4985184c3ef9\",\"type\":\"ColumnDataSource\"}},\"id\":\"31da4982-1144-41cb-b266-f860d01e013e\",\"type\":\"CDSView\"},{\"attributes\":{},\"id\":\"ced59607-3163-4aaf-a44d-75d30dfc02b7\",\"type\":\"BasicTickFormatter\"},{\"attributes\":{\"fill_alpha\":{\"value\":0.1},\"fill_color\":{\"value\":\"#1f77b4\"},\"line_alpha\":{\"value\":0.1},\"line_color\":{\"value\":\"#1f77b4\"},\"size\":{\"field\":\"snr\",\"units\":\"screen\"},\"x\":{\"field\":\"l\"},\"y\":{\"field\":\"time\"}},\"id\":\"05753ebc-dd56-41f8-9546-76ccd3da755b\",\"type\":\"Circle\"},{\"attributes\":{\"callback\":null},\"id\":\"6f93dce1-79d3-44d5-9541-e7b9136cd0a9\",\"type\":\"DataRange1d\"},{\"attributes\":{\"axis_label\":\"DM\",\"formatter\":{\"id\":\"f5e36114-4bc5-4456-99c9-2c28d9c8f76f\",\"type\":\"BasicTickFormatter\"},\"plot\":{\"id\":\"18bd8405-b478-4e38-8d36-d0e5242bcb4d\",\"subtype\":\"Figure\",\"type\":\"Plot\"},\"ticker\":{\"id\":\"381dca4f-31ec-441d-9e93-41298e0b6c09\",\"type\":\"BasicTicker\"}},\"id\":\"e8148124-8b78-44b5-973c-23bf7cf3e527\",\"type\":\"LinearAxis\"},{\"attributes\":{\"dimension\":1,\"plot\":{\"id\":\"92e39fda-d5da-4254-8170-836d57bfa09f\",\"subtype\":\"Figure\",\"type\":\"Plot\"},\"ticker\":{\"id\":\"c96b0ed4-9eb7-454d-9593-44c905cb6049\",\"type\":\"BasicTicker\"}},\"id\":\"5c40fb55-4f34-4c64-ad34-3f48d7d269f0\",\"type\":\"Grid\"},{\"attributes\":{\"callback\":null,\"column_names\":[\"colors\",\"dm\",\"snr\",\"time\",\"m\",\"l\"],\"data\":{\"colors\":[\"#908283\",\"#808080\",\"#808080\",\"#808080\",\"#4c72b0\",\"#908283\",\"#808080\",\"#808080\",\"#919094\",\"#908283\",\"#8273b1\",\"#8172b2\",\"#4c72b0\",\"#8273b1\",\"#908283\",\"#908283\",\"#908283\",\"#8172b2\",\"#4c72b0\",\"#8172b2\",\"#4c72b0\",\"#4c72b0\",\"#877da7\",\"#4c72b0\",\"#4c72b0\",\"#877da7\",\"#4c72b0\",\"#8e8b99\",\"#8172b2\",\"#8273b1\",\"#8e8b99\",\"#8172b2\",\"#8273b1\",\"#8e8b99\",\"#8172b2\",\"#8273b1\",\"#908f95\",\"#8172b2\",\"#8273b1\",\"#8172b2\",\"#8275af\",\"#8479ab\",\"#8172b2\",\"#8172b2\",\"#8172b2\",\"#8172b2\",\"#8579ab\",\"#877ea6\",\"#8981a3\",\"#857aaa\",\"#887fa5\",\"#8172b2\",\"#857aaa\",\"#8172b2\",\"#8375af\",\"#8478ac\",\"#8375af\",\"#8477ad\",\"#8172b2\",\"#918f95\",\"#8478ac\",\"#8172b2\",\"#8477ad\",\"#8173b1\",\"#8172b2\",\"#8477ad\",\"#8172b2\",\"#8172b2\",\"#8377ad\",\"#8172b2\",\"#8172b2\",\"#8172b2\",\"#919094\",\"#8172b2\",\"#8172b2\",\"#8172b2\",\"#8f8c98\",\"#ae6466\",\"#8375af\",\"#699473\",\"#808080\",\"#649970\",\"#c34f53\",\"#c44e52\",\"#8478ac\",\"#c44e52\",\"#55a868\",\"#55a868\",\"#55a868\",\"#c44e52\",\"#55a868\",\"#808080\",\"#987a7b\",\"#c44e52\",\"#808080\",\"#8478ac\",\"#808080\",\"#8478ac\",\"#8478ac\",\"#4c72b0\",\"#908283\",\"#8579ab\",\"#808080\",\"#918f95\",\"#4c72b0\",\"#8477ad\",\"#8376ae\",\"#8273b1\",\"#908283\",\"#8172b2\",\"#908283\",\"#8172b2\",\"#4c72b0\",\"#8172b2\",\"#8172b2\",\"#8172b2\",\"#8880a4\",\"#8172b2\",\"#877da7\",\"#8172b2\",\"#8172b2\",\"#8172b2\",\"#8273b1\",\"#8172b2\",\"#8273b1\",\"#8172b2\",\"#8273b1\",\"#8172b2\",\"#8273b1\",\"#8172b2\",\"#8172b2\",\"#8273b1\",\"#8376ae\",\"#8376ae\",\"#8172b2\",\"#8579ab\",\"#8172b2\",\"#8376ae\",\"#8376ae\",\"#8172b2\",\"#857aaa\",\"#8172b2\",\"#8172b2\",\"#8172b2\",\"#8172b2\",\"#8172b2\",\"#877da7\",\"#8172b2\",\"#8172b2\",\"#8172b2\",\"#8172b2\",\"#877da7\",\"#8172b2\",\"#8172b2\",\"#8173b1\",\"#8274b0\",\"#c44e52\",\"#c44e52\",\"#887fa5\",\"#c44e52\",\"#55a868\",\"#c44e52\",\"#55a868\",\"#c44e52\",\"#55a868\",\"#c44e52\",\"#55a868\",\"#c44e52\",\"#8e8a9a\",\"#877da7\",\"#8478ac\",\"#8478ac\",\"#8478ac\",\"#8478ac\",\"#8478ac\",\"#8478ac\",\"#8579ab\",\"#8376ae\",\"#8274b0\",\"#8172b2\",\"#8172b2\",\"#8172b2\",\"#8172b2\",\"#8172b2\",\"#8172b2\",\"#8172b2\",\"#8172b2\",\"#8172b2\",\"#8172b2\",\"#8172b2\",\"#8172b2\",\"#8172b2\",\"#8172b2\",\"#8172b2\",\"#8172b2\",\"#8172b2\",\"#8172b2\",\"#8376ae\",\"#8375af\",\"#877da7\",\"#8478ac\",\"#867ba9\",\"#8477ad\",\"#8477ad\",\"#8172b2\",\"#8172b2\",\"#8172b2\",\"#8274b0\",\"#8376ae\",\"#8172b2\",\"#8172b2\",\"#8274b0\",\"#8172b2\",\"#8173b1\",\"#8376ae\",\"#8478ac\",\"#57a669\",\"#877ea6\",\"#55a868\",\"#55a868\",\"#987a7b\",\"#8c879d\"],\"dm\":{\"__ndarray__\":\"AAAAAAYAAAAHAAAACAAAAAkAAAAKAAAACgAAAAsAAAAMAAAADAAAAA4AAAAPAAAADwAAABAAAAAQAAAAEQAAABEAAAASAAAAEgAAABMAAAATAAAAFAAAABQAAAAVAAAAFQAAABYAAAAWAAAAFwAAABcAAAAXAAAAGAAAABgAAAAYAAAAGQAAABkAAAAZAAAAGgAAABoAAAAaAAAAGwAAABsAAAAbAAAAHAAAABwAAAAdAAAAHQAAAB4AAAAeAAAAHwAAACAAAAAgAAAAIQAAACEAAAAiAAAAIgAAACMAAAAjAAAAJAAAACQAAAAkAAAAJQAAACUAAAAlAAAAJgAAACYAAAAnAAAAJwAAACgAAAAoAAAAKQAAACkAAAAqAAAAKgAAACsAAAArAAAALAAAACwAAAAtAAAALQAAAC4AAAAuAAAALwAAAC8AAAAwAAAAMQAAADEAAAAyAAAAMwAAADQAAAA0AAAANQAAADUAAAA2AAAANgAAAAIAAAAFAAAABgAAAAcAAAAIAAAACQAAAAoAAAAKAAAACwAAAAsAAAAMAAAADQAAAA0AAAAOAAAADgAAAA8AAAAPAAAAEAAAABAAAAARAAAAEgAAABMAAAATAAAAFAAAABQAAAAVAAAAFgAAABcAAAAXAAAAGAAAABgAAAAZAAAAGQAAABoAAAAaAAAAGwAAABwAAAAdAAAAHgAAAB8AAAAgAAAAIQAAACEAAAAiAAAAIgAAACMAAAAjAAAAJAAAACUAAAAmAAAAJwAAACgAAAApAAAAKQAAACoAAAArAAAALAAAAC0AAAAtAAAALgAAAC8AAAAwAAAAMQAAADIAAAAzAAAAMwAAADQAAAA0AAAANQAAADUAAAA2AAAANgAAADcAAAA3AAAAAAAAAAQAAAAFAAAABgAAAAcAAAAIAAAACQAAAAoAAAALAAAADAAAAA0AAAAOAAAADwAAABAAAAARAAAAEgAAABMAAAAUAAAAFQAAABYAAAAXAAAAGAAAABkAAAAaAAAAGwAAABwAAAAdAAAAHgAAAB8AAAAgAAAAIQAAACIAAAAiAAAAIwAAACQAAAAlAAAAJgAAACcAAAAoAAAAKQAAACoAAAArAAAALAAAAC0AAAAuAAAALwAAADAAAAAxAAAAMgAAADMAAAA0AAAANQAAADYAAAA3AAAA\",\"dtype\":\"int32\",\"shape\":[222]},\"l\":{\"__ndarray__\":\"AACiQwAAQkMAAI9DAICMQwAAZ0MAAJtDAABAQwCAjEMAAHJDAICcQwCAikMAgIpDAABwQwAAikMAAKJDAACcQwAAokMAgIpDAABwQwCAikMAAHBDAABwQwCAikMAAGdDAABwQwCAikMAAHBDAICFQwAAikMAgIpDAICFQwCAikMAgIpDAICFQwCAikMAgIpDAAB0QwCAikMAgIpDAICKQwCAikMAgIpDAICKQwCAikMAgIpDAICKQwCAikMAgIpDAICKQwCAikMAgIpDAICKQwCAikMAgIpDAICKQwCAikMAgIpDAICKQwCAikMAAHRDAICKQwCAikMAgIpDAICKQwCAikMAgIpDAICKQwCAikMAgIpDAICKQwCAikMAgIpDAAB0QwCAikMAgIpDAICKQwAAi0MAgJxDAICKQwAAcEMAAIhDAABwQwAAnEMAAJxDAICKQwAAnEMAAHBDAABwQwAAcEMAAJxDAABwQwAAQkMAAKJDAACcQwAAQEMAgIpDAICMQwCAikMAgIpDAABnQwAAm0MAgIpDAICMQwAAdEMAAHBDAICKQwCAikMAgIpDAICcQwCAikMAgJxDAICKQwAAcEMAAIpDAICKQwCAikMAgIpDAACKQwCAikMAAIpDAACKQwAAikMAgIpDAICKQwCAikMAgIpDAICKQwCAikMAgIpDAICKQwCAikMAgIpDAICKQwCAikMAgIpDAICKQwCAikMAgIpDAICKQwCAikMAgIpDAICKQwCAikMAgIpDAICKQwCAikMAgIpDAICKQwCAikMAgIpDAICKQwCAikMAgIpDAICKQwCAikMAgIpDAACcQwAAnEMAgIpDAACcQwAAcEMAAJxDAABwQwAAnEMAAHBDAACcQwAAcEMAAJxDAACNQwCAikMAgIpDAICKQwCAikMAgIpDAICKQwCAikMAgIpDAICKQwCAikMAgIpDAICKQwCAikMAgIpDAICKQwAAikMAAIpDAICKQwCAikMAgIpDAICKQwCAikMAgIpDAICKQwCAikMAgIpDAICKQwCAikMAgIpDAICKQwCAikMAgIpDAICKQwCAikMAgIpDAICKQwCAikMAgIpDAICKQwCAikMAgIpDAICKQwCAikMAgIpDAICKQwCAikMAgIpDAABwQwCAikMAAHBDAABwQwAAokMAgIpD\",\"dtype\":\"float32\",\"shape\":[222]},\"m\":{\"__ndarray__\":\"AAB4QwAAP0MAAJpDAICEQwAAT0MAAHJDAAA+QwCAhEMAAHhDAABzQwAAY0MAAGNDAABTQwAAY0MAAHhDAABzQwAAeEMAAGNDAABTQwAAY0MAAFNDAABTQwAAY0MAAE9DAABTQwAAY0MAAFNDAABpQwAAY0MAAGNDAABpQwAAY0MAAGNDAABpQwAAY0MAAGNDAAB3QwAAY0MAAGNDAABjQwAAY0MAAGNDAABjQwAAY0MAAGNDAABjQwAAY0MAAGNDAABjQwAAY0MAAGNDAABjQwAAY0MAAGNDAABjQwAAY0MAAGNDAABjQwAAY0MAAHdDAABjQwAAY0MAAGNDAABjQwAAY0MAAGNDAABjQwAAY0MAAGNDAABjQwAAY0MAAGNDAAB3QwAAY0MAAGNDAABjQwAAb0MAAHNDAABjQwAAU0MAAD1DAABTQwAAc0MAAHNDAABjQwAAc0MAAFNDAABTQwAAU0MAAHNDAABTQwAAP0MAAHhDAABzQwAAPkMAAGNDAACFQwAAY0MAAGNDAABPQwAAckMAAGNDAICEQwAAd0MAAFNDAABjQwAAY0MAAGNDAABzQwAAY0MAAHNDAABjQwAAU0MAAGNDAABjQwAAY0MAAGNDAABjQwAAY0MAAGNDAABjQwAAY0MAAGNDAABjQwAAY0MAAGNDAABjQwAAY0MAAGNDAABjQwAAY0MAAGNDAABjQwAAY0MAAGNDAABjQwAAY0MAAGNDAABjQwAAY0MAAGNDAABjQwAAY0MAAGNDAABjQwAAY0MAAGNDAABjQwAAY0MAAGNDAABjQwAAY0MAAGNDAABjQwAAY0MAAGNDAABzQwAAc0MAAGNDAABzQwAAU0MAAHNDAABTQwAAc0MAAFNDAABzQwAAU0MAAHNDAABgQwAAY0MAAGNDAABjQwAAY0MAAGNDAABjQwAAY0MAAGNDAABjQwAAY0MAAGNDAABjQwAAY0MAAGNDAABjQwAAY0MAAGNDAABjQwAAY0MAAGNDAABjQwAAY0MAAGNDAABjQwAAY0MAAGNDAABjQwAAY0MAAGNDAABjQwAAY0MAAGNDAABjQwAAY0MAAGNDAABjQwAAY0MAAGNDAABjQwAAY0MAAGNDAABjQwAAY0MAAGNDAABjQwAAY0MAAGNDAABTQwAAY0MAAFNDAABTQwAAeEMAAGND\",\"dtype\":\"float32\",\"shape\":[222]},\"snr\":{\"__ndarray__\":\"TAjvQCWy7UBfNgBBdsLhQDIYB0Hx1ulAP9/hQA/98UBV+fhAonj1QIkb/EDyk/xAyuYBQQ8D9EByjAJBxKT8QDK2BkHLHRBBFhkBQcYaD0HRQOtAdl8hQf5f+kAwJelAyLUxQWEH6UCoOzFBqTH8QNs1NUGyZfhAZjcKQY9eN0GzAgBBWuoXQetZMUFT+/tAxE4xQW8QMUEqaABBndhPQadZL0EOIwJBlQdhQSjFUkGu6YRBbG1bQVMAn0HfYhtBunm2QTiKBEEVya5BJ9lOQUZjm0GIlYFBLBhzQU2ojEG/qkNBXd8BQfJsg0FwKRNBVEIJQTz+ZEFt9ABBgwcQQS9pVkERXgFB4NRXQefiCkFkozVBgeALQenEIkEavBVBILwtQY7iGEHDJhpBBiMMQb4e+kBHDPFAE4f8QEkwCEH2BOtAo6ztQOKc7UBYpQlB528AQfeiAkH4avBAwqn8QJwW5kA/4fZApxvrQBzD/UAfT+NA3yX4QCWc4kBsMAJBcbX6QL4AAUGA1elAWdv4QLU77EDbV+pAPWzwQDRMB0GmfgNBhBjhQMnIA0E58uVA4EkHQbRtEEEvs/xA2nESQV+D5ECGGBJBL30dQdUMH0G4F+dAVgIkQZHOAUHVBzJBqSw8QZRpRUGCQu5A8C1KQe5gC0F9lUlB51cNQdEsUkEQgfBAqPhkQWksg0HSQpVBKWuTQbmyk0GzI39B1YEQQcR0YUEWn0dBW7YwQbFcWEEqofRAJOx1QeHraEHzXmRBmgdiQRdLTkGhxexAv11FQUrbT0Ft6UpB0PowQTjU4kBECSNBFm0hQR19DUHqrBFBOO8dQUrtCUFjHPVA5OX0QOHr7UAgZQdBkLYBQdfuC0EmnQVBIFMNQYM9CkHnhwNBQbjgQGjQ7kDbAfdAiWPpQIJgBEEn0gpByjUKQdM5F0F34BZBZYkbQfVWKkGn9iRBj/QtQRVxLUG44SpBZ2gmQZ+JH0GmLB5BD1YwQd5ZPkGlrlJBUBpqQcs4cUHL2nBBO0Z0QXMiekHSR3xBfkx7QTNva0E6pU1Ba9onQUpzFEGSZfdA0REuQbTXQkFId0dB7GhSQYmJYEG7tWBBw2VkQYShZEF65FZBseY9QQMqPEHMbTBBCZAjQZlGJkGsqytByu8iQQ+9IEEb7RxBBBIaQW8pG0HNvhhB\",\"dtype\":\"float32\",\"shape\":[222]},\"time\":{\"__ndarray__\":\"lAEAAJIBAACSAQAAkQEAAJEBAACRAQAAkwEAAJEBAACRAQAAkgEAAJIBAACRAQAAkgEAAJEBAACSAQAAkQEAAJIBAACRAQAAkgEAAJEBAACSAQAAkQEAAJQBAACQAQAAkQEAAJABAACRAQAAkAEAAJEBAACTAQAAkAEAAJEBAACTAQAAkAEAAJEBAACSAQAAkAEAAJEBAACSAQAAkAEAAJEBAACSAQAAkAEAAJEBAACQAQAAkQEAAJABAACRAQAAkAEAAI8BAACQAQAAjwEAAJABAACPAQAAkAEAAI8BAACQAQAAjgEAAI8BAACQAQAAjgEAAI8BAACQAQAAjgEAAI8BAACOAQAAjwEAAI4BAACPAQAAjgEAAI8BAACOAQAAjwEAAI4BAACPAQAAjgEAAI8BAACOAQAAjwEAAI4BAACPAQAAjgEAAI8BAACPAQAAjQEAAI8BAACNAQAAjQEAAI0BAACOAQAAjQEAAI4BAACNAQAAjgEAAJQBAACSAQAAkgEAAJIBAACSAQAAkAEAAJABAACSAQAAkAEAAJIBAACSAQAAkAEAAJIBAACQAQAAkgEAAJABAACSAQAAkAEAAJIBAACQAQAAkAEAAJABAACUAQAAkAEAAJQBAACQAQAAkAEAAJABAACSAQAAkAEAAJIBAACQAQAAkgEAAJABAACSAQAAkAEAAJABAACQAQAAkAEAAJABAACQAQAAjgEAAJABAACOAQAAkAEAAI4BAACQAQAAjgEAAI4BAACOAQAAjgEAAI4BAACMAQAAjgEAAI4BAACOAQAAjgEAAIwBAACOAQAAjgEAAI4BAACOAQAAjgEAAI4BAACMAQAAjgEAAIwBAACOAQAAjAEAAI4BAACMAQAAjgEAAIwBAACOAQAAkAEAAJABAACQAQAAkAEAAJABAACQAQAAkAEAAJABAACQAQAAkAEAAJABAACQAQAAkAEAAJABAACQAQAAkAEAAJABAACQAQAAkAEAAJABAACQAQAAkAEAAJABAACQAQAAkAEAAJABAACQAQAAkAEAAJABAACQAQAAkAEAAIwBAACQAQAAjAEAAIwBAACMAQAAjAEAAIwBAACMAQAAjAEAAIwBAACMAQAAjAEAAIwBAACMAQAAjAEAAIwBAACMAQAAjAEAAIwBAACMAQAAjAEAAIwBAACMAQAA\",\"dtype\":\"int32\",\"shape\":[222]}}},\"id\":\"27163de1-b4fd-42b0-879b-4985184c3ef9\",\"type\":\"ColumnDataSource\"},{\"attributes\":{\"callback\":null},\"id\":\"bdb2b97a-5d09-4213-be20-2c7f2728221d\",\"type\":\"DataRange1d\"},{\"attributes\":{},\"id\":\"b7b2d930-502d-4512-a094-d0cb8e978512\",\"type\":\"LinearScale\"},{\"attributes\":{\"axis_label\":\"l\",\"formatter\":{\"id\":\"a33f24e4-0afb-47d2-959a-405fec8ee2fc\",\"type\":\"BasicTickFormatter\"},\"plot\":{\"id\":\"a53e54bd-6a8e-4aa4-b775-2af57e9a63a9\",\"subtype\":\"Figure\",\"type\":\"Plot\"},\"ticker\":{\"id\":\"d82e39d2-b25b-4d95-b1a9-d2b7a8016645\",\"type\":\"BasicTicker\"}},\"id\":\"0d6af448-a796-41ab-ab1f-7b4871dbbb33\",\"type\":\"LinearAxis\"},{\"attributes\":{\"source\":{\"id\":\"27163de1-b4fd-42b0-879b-4985184c3ef9\",\"type\":\"ColumnDataSource\"}},\"id\":\"4452024a-e158-4d25-9a4b-52a777308624\",\"type\":\"CDSView\"},{\"attributes\":{},\"id\":\"b696ffbe-65bb-479e-97c8-8469aa4c16bf\",\"type\":\"BasicTicker\"},{\"attributes\":{\"axis_label\":\"time\",\"formatter\":{\"id\":\"7ca6b473-7895-4be4-9b22-b3abb5ccbd92\",\"type\":\"BasicTickFormatter\"},\"plot\":{\"id\":\"18bd8405-b478-4e38-8d36-d0e5242bcb4d\",\"subtype\":\"Figure\",\"type\":\"Plot\"},\"ticker\":{\"id\":\"b696ffbe-65bb-479e-97c8-8469aa4c16bf\",\"type\":\"BasicTicker\"}},\"id\":\"d8ea2e85-af9b-4c7d-902c-f237a75188a3\",\"type\":\"LinearAxis\"},{\"attributes\":{\"bottom_units\":\"screen\",\"fill_alpha\":{\"value\":0.5},\"fill_color\":{\"value\":\"lightgrey\"},\"left_units\":\"screen\",\"level\":\"overlay\",\"line_alpha\":{\"value\":1.0},\"line_color\":{\"value\":\"black\"},\"line_dash\":[4,4],\"line_width\":{\"value\":2},\"plot\":null,\"render_mode\":\"css\",\"right_units\":\"screen\",\"top_units\":\"screen\"},\"id\":\"eb3f7e06-7c44-4ce9-98bd-20c189d42ae4\",\"type\":\"BoxAnnotation\"},{\"attributes\":{},\"id\":\"5f322daa-f01c-4719-a48b-0f2c1879161e\",\"type\":\"BasicTickFormatter\"},{\"attributes\":{\"fill_alpha\":{\"value\":0.1},\"fill_color\":{\"value\":\"#1f77b4\"},\"line_alpha\":{\"value\":0.1},\"line_color\":{\"value\":\"#1f77b4\"},\"size\":{\"field\":\"snr\",\"units\":\"screen\"},\"x\":{\"field\":\"l\"},\"y\":{\"field\":\"m\"}},\"id\":\"28841af3-0683-4639-841c-34d800d813e0\",\"type\":\"Circle\"},{\"attributes\":{},\"id\":\"044d6d60-76d9-4606-98ee-d9ada021a3a3\",\"type\":\"CrosshairTool\"},{\"attributes\":{\"callback\":null},\"id\":\"80b1eb79-1470-4b79-914b-369cb83e368c\",\"type\":\"TapTool\"},{\"attributes\":{\"callback\":null},\"id\":\"a6dae15b-ef46-493b-a0f6-4cde85d5d7ff\",\"type\":\"TapTool\"},{\"attributes\":{\"source\":{\"id\":\"27163de1-b4fd-42b0-879b-4985184c3ef9\",\"type\":\"ColumnDataSource\"}},\"id\":\"bcf26b05-36d5-473b-9ea6-b553abe73dd9\",\"type\":\"CDSView\"},{\"attributes\":{\"callback\":null},\"id\":\"cd41674c-e063-4067-8bfe-0cb8a516181f\",\"type\":\"TapTool\"}],\"root_ids\":[\"055a124d-08a3-4061-b9db-9bc4d5524299\"]},\"title\":\"Bokeh Application\",\"version\":\"0.12.10\"}};\n",
       "    var render_items = [{\"docid\":\"e56228d6-aae1-4bbb-8558-09cc62597942\",\"elementid\":\"af2baf0b-7e4e-4ddc-bc25-8891e8f725da\",\"modelid\":\"055a124d-08a3-4061-b9db-9bc4d5524299\"}];\n",
       "\n",
       "    root.Bokeh.embed.embed_items(docs_json, render_items);\n",
       "  }\n",
       "\n",
       "  if (root.Bokeh !== undefined) {\n",
       "    embed_document(root);\n",
       "  } else {\n",
       "    var attempts = 0;\n",
       "    var timer = setInterval(function(root) {\n",
       "      if (root.Bokeh !== undefined) {\n",
       "        embed_document(root);\n",
       "        clearInterval(timer);\n",
       "      }\n",
       "      attempts++;\n",
       "      if (attempts > 100) {\n",
       "        console.log(\"Bokeh: ERROR: Unable to embed document because BokehJS library is missing\")\n",
       "        clearInterval(timer);\n",
       "      }\n",
       "    }, 10, root)\n",
       "  }\n",
       "})(window);"
      ],
      "application/vnd.bokehjs_exec.v0+json": ""
     },
     "metadata": {
      "application/vnd.bokehjs_exec.v0+json": {
       "id": "055a124d-08a3-4061-b9db-9bc4d5524299"
      }
     },
     "output_type": "display_data"
    }
   ],
   "source": [
    "width = 450\n",
    "height = 350\n",
    "output_notebook()\n",
    "\n",
    "TOOLS = 'crosshair, box_zoom, reset, box_select, tap, hover, wheel_zoom'\n",
    "data = dict(l= peakx_ind, m= peaky_ind, dm= dm_ind, time= time_ind, snr= snr, colors = cluster_colors)\n",
    "source=ColumnDataSource(data=data)\n",
    "\n",
    "\n",
    "p = figure(title=\"m vs l\", x_axis_label='l', y_axis_label='m',plot_width=width, plot_height=height, tools = TOOLS)\n",
    "p.circle(x='l',y='m', size='snr', line_width = 1, color = 'colors', fill_alpha=0.3, source = source) # linewidth=0,\n",
    "#p.circle(x=df.l,y=df.m, size=5, line_width = 1, color = cluster_colors, fill_alpha=0.5) # linewidth=0,\n",
    "hover = p.select(dict(type=HoverTool))\n",
    "hover.tooltips = [(\"m\", \"@m\"), (\"l\", \"@l\"), (\"time\", \"@time\"), (\"DM\", \"@dm\"), (\"SNR\", \"@snr\")]\n",
    "\n",
    "#p.circle(x,y, size=5, line_width = 1, color = colors)#, , fill_alpha=1) # linewidth=0,\n",
    "#p.circle(x=\"x\", y=\"y\", source=source, size=7, color=\"color\", line_color=None, fill_alpha=\"alpha\")\n",
    "p2 = figure(title=\"DM vs time\", x_axis_label='time', y_axis_label='DM',plot_width=width, plot_height=height, tools = TOOLS)\n",
    "p2.circle(x='time',y='dm', size='snr', line_width = 1, color = 'colors', fill_alpha=0.3, source=source) # linewidth=0,\n",
    "hover = p2.select(dict(type=HoverTool))\n",
    "hover.tooltips = [(\"m\", \"@m\"), (\"l\", \"@l\"), (\"time\", \"@time\"), (\"DM\", \"@dm\"), (\"SNR\", \"@snr\")]\n",
    "\n",
    "\n",
    "p3 = figure(title=\"DM vs l\", x_axis_label='l', y_axis_label='DM',plot_width=width, plot_height=height, tools = TOOLS)\n",
    "p3.circle(x='l',y='dm', size='snr', line_width = 1, color = 'colors', fill_alpha=0.3, source=source) # linewidth=0,\n",
    "hover = p3.select(dict(type=HoverTool))\n",
    "hover.tooltips = [(\"m\", \"@m\"), (\"l\", \"@l\"), (\"time\", \"@time\"), (\"DM\", \"@dm\"), (\"SNR\", \"@snr\")]\n",
    "\n",
    "\n",
    "p4 = figure(title=\"time vs l\", x_axis_label='l', y_axis_label='time',plot_width=width, plot_height=height, tools = TOOLS)\n",
    "p4.circle(x='l',y='time', size='snr', line_width = 1, color = 'colors', fill_alpha=0.3, source=source) # linewidth=0,\n",
    "hover = p4.select(dict(type=HoverTool))\n",
    "hover.tooltips = [(\"m\", \"@m\"), (\"l\", \"@l\"), (\"time\", \"@time\"), (\"DM\", \"@dm\"), (\"SNR\", \"@snr\")]\n",
    "\n",
    "\n",
    "# show the results\n",
    "show(column(row(p,p2),row(p3,p4)))"
   ]
  },
  {
   "cell_type": "code",
   "execution_count": null,
   "metadata": {},
   "outputs": [],
   "source": []
  },
  {
   "cell_type": "code",
   "execution_count": null,
   "metadata": {},
   "outputs": [],
   "source": []
  },
  {
   "cell_type": "code",
   "execution_count": null,
   "metadata": {},
   "outputs": [],
   "source": []
  },
  {
   "cell_type": "code",
   "execution_count": null,
   "metadata": {},
   "outputs": [],
   "source": []
  }
 ],
 "metadata": {
  "kernelspec": {
   "display_name": "Python 2",
   "language": "python",
   "name": "python2"
  },
  "language_info": {
   "codemirror_mode": {
    "name": "ipython",
    "version": 2
   },
   "file_extension": ".py",
   "mimetype": "text/x-python",
   "name": "python",
   "nbconvert_exporter": "python",
   "pygments_lexer": "ipython2",
   "version": "2.7.14"
  }
 },
 "nbformat": 4,
 "nbformat_minor": 2
}
